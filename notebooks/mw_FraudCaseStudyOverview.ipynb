{
 "cells": [
  {
   "cell_type": "markdown",
   "metadata": {},
   "source": [
    "# Fraud case study\n",
    "\n"
   ]
  },
  {
   "cell_type": "markdown",
   "metadata": {},
   "source": [
    "## Day 1: building a fraud model"
   ]
  },
  {
   "cell_type": "markdown",
   "metadata": {},
   "source": [
    "## Day 2: building an app/dashboard"
   ]
  },
  {
   "cell_type": "markdown",
   "metadata": {},
   "source": [
    "## Tips success\n",
    "\n",
    "You will quickly run out of time:\n",
    "\n",
    "*  Use CRISP-DM workflow to analyze data and build a model\n",
    "*  Iterate quickly, test often, commit often\n",
    "*  Build deadlines for your work so you stay on track\n",
    "*  Should have a model by end of day 1\n",
    "*  Start app once model is working"
   ]
  },
  {
   "cell_type": "markdown",
   "metadata": {},
   "source": [
    "### CRISP-DM workflow\n",
    "\n",
    "Follow the [CRISP-DM](https://en.wikipedia.org/wiki/Cross_Industry_Standard_Process_for_Data_Mining) steps:\n",
    "\n",
    "1.  Business understanding\n",
    "2.  Data understanding\n",
    "3.  Data preparation\n",
    "4.  Modeling\n",
    "5.  Evaluation\n",
    "6.  Deployment"
   ]
  },
  {
   "cell_type": "markdown",
   "metadata": {},
   "source": [
    "# Introduction to case study: data & problem"
   ]
  },
  {
   "cell_type": "markdown",
   "metadata": {},
   "source": [
    "Let's look at the data.  What format is the data in?  How do you extract it?"
   ]
  },
  {
   "cell_type": "code",
   "execution_count": null,
   "metadata": {},
   "outputs": [],
   "source": [
    "ls -lh data"
   ]
  },
  {
   "cell_type": "markdown",
   "metadata": {},
   "source": [
    "Unzip the data so you can load it into Python"
   ]
  },
  {
   "cell_type": "code",
   "execution_count": null,
   "metadata": {},
   "outputs": [],
   "source": [
    "!unzip data/data.zip -d data"
   ]
  },
  {
   "cell_type": "markdown",
   "metadata": {},
   "source": [
    "Initially, work with a subset at first in order to iterate quickly.  But, the file is one giant line of json:"
   ]
  },
  {
   "cell_type": "code",
   "execution_count": null,
   "metadata": {},
   "outputs": [],
   "source": [
    "!wc data/data.json"
   ]
  },
  {
   "cell_type": "markdown",
   "metadata": {},
   "source": [
    "Write a quick and dirty script to pull out the first 100 records so we can get code working quickly."
   ]
  },
  {
   "cell_type": "code",
   "execution_count": null,
   "metadata": {},
   "outputs": [],
   "source": [
    "%%writefile subset_json.py\n",
    "\"\"\"head_json.py - extract a couple records from a huge json file.\n",
    "\n",
    "Syntax: python head_json.py < infile.json > outfile.json\n",
    "\"\"\"\n",
    "\n",
    "import sys\n",
    "\n",
    "start_char = '{'\n",
    "stop_char = '}'\n",
    "n_records = 100\n",
    "level_nesting = 0\n",
    "\n",
    "while n_records != 0:\n",
    "    ch = sys.stdin.read(1)\n",
    "    sys.stdout.write(ch)\n",
    "    if ch == start_char:\n",
    "        level_nesting += 1\n",
    "    if ch == stop_char:\n",
    "        level_nesting -= 1\n",
    "        if level_nesting == 0:\n",
    "            n_records -= 1\n",
    "sys.stdout.write(']')\n"
   ]
  },
  {
   "cell_type": "code",
   "execution_count": null,
   "metadata": {},
   "outputs": [],
   "source": [
    "!python subset_json.py < data/data.json > data/subset.json"
   ]
  },
  {
   "cell_type": "code",
   "execution_count": 4,
   "metadata": {},
   "outputs": [],
   "source": [
    "import pandas as pd\n",
    "\n",
    "df = pd.read_json('data/data.json')"
   ]
  },
  {
   "cell_type": "code",
   "execution_count": null,
   "metadata": {},
   "outputs": [],
   "source": [
    "df.head().T"
   ]
  },
  {
   "cell_type": "markdown",
   "metadata": {},
   "source": [
    "Some of the data is text (and HTML), which will require feature engineering:\n",
    "\n",
    "* TF-IDF\n",
    "* Feature hashing\n",
    "* n-grams\n",
    "\n",
    "etc.\n",
    "\n",
    "You will also need to construct a target from `acct_type`.  Fraud events start with `fraud`.  How you define fraud depends on how you define the business problem."
   ]
  },
  {
   "cell_type": "code",
   "execution_count": 2,
   "metadata": {},
   "outputs": [
    {
     "data": {
      "text/plain": [
       "premium             12373\n",
       "fraudster_event       851\n",
       "fraudster             437\n",
       "spammer_limited       218\n",
       "spammer_warn          144\n",
       "tos_warn               91\n",
       "spammer_noinvite       84\n",
       "tos_lock               77\n",
       "locked                 54\n",
       "fraudster_att           5\n",
       "spammer_web             2\n",
       "spammer                 1\n",
       "Name: acct_type, dtype: int64"
      ]
     },
     "execution_count": 2,
     "metadata": {},
     "output_type": "execute_result"
    }
   ],
   "source": [
    "df.acct_type.value_counts(dropna=False)"
   ]
  },
  {
   "cell_type": "code",
   "execution_count": null,
   "metadata": {},
   "outputs": [],
   "source": [
    "df.info()"
   ]
  },
  {
   "cell_type": "markdown",
   "metadata": {},
   "source": [
    "Is missing data a problem?  What are your options for handling missing data?"
   ]
  },
  {
   "cell_type": "code",
   "execution_count": 12,
   "metadata": {},
   "outputs": [
    {
     "data": {
      "text/html": [
       "<div>\n",
       "<style scoped>\n",
       "    .dataframe tbody tr th:only-of-type {\n",
       "        vertical-align: middle;\n",
       "    }\n",
       "\n",
       "    .dataframe tbody tr th {\n",
       "        vertical-align: top;\n",
       "    }\n",
       "\n",
       "    .dataframe thead th {\n",
       "        text-align: right;\n",
       "    }\n",
       "</style>\n",
       "<table border=\"1\" class=\"dataframe\">\n",
       "  <thead>\n",
       "    <tr style=\"text-align: right;\">\n",
       "      <th></th>\n",
       "      <th>count</th>\n",
       "      <th>mean</th>\n",
       "      <th>std</th>\n",
       "      <th>min</th>\n",
       "      <th>25%</th>\n",
       "      <th>50%</th>\n",
       "      <th>75%</th>\n",
       "      <th>max</th>\n",
       "    </tr>\n",
       "  </thead>\n",
       "  <tbody>\n",
       "    <tr>\n",
       "      <th>approx_payout_date</th>\n",
       "      <td>13044.0</td>\n",
       "      <td>1.351254e+09</td>\n",
       "      <td>2.342515e+07</td>\n",
       "      <td>1.283225e+09</td>\n",
       "      <td>1.334876e+09</td>\n",
       "      <td>1.356141e+09</td>\n",
       "      <td>1.370596e+09</td>\n",
       "      <td>1.419293e+09</td>\n",
       "    </tr>\n",
       "    <tr>\n",
       "      <th>body_length</th>\n",
       "      <td>13044.0</td>\n",
       "      <td>3.886995e+03</td>\n",
       "      <td>5.889318e+03</td>\n",
       "      <td>0.000000e+00</td>\n",
       "      <td>9.040000e+02</td>\n",
       "      <td>2.164000e+03</td>\n",
       "      <td>4.567250e+03</td>\n",
       "      <td>6.553500e+04</td>\n",
       "    </tr>\n",
       "    <tr>\n",
       "      <th>channels</th>\n",
       "      <td>13044.0</td>\n",
       "      <td>6.377645e+00</td>\n",
       "      <td>3.768931e+00</td>\n",
       "      <td>0.000000e+00</td>\n",
       "      <td>5.000000e+00</td>\n",
       "      <td>6.000000e+00</td>\n",
       "      <td>8.000000e+00</td>\n",
       "      <td>1.300000e+01</td>\n",
       "    </tr>\n",
       "    <tr>\n",
       "      <th>delivery_method</th>\n",
       "      <td>13040.0</td>\n",
       "      <td>4.755368e-01</td>\n",
       "      <td>5.998822e-01</td>\n",
       "      <td>0.000000e+00</td>\n",
       "      <td>0.000000e+00</td>\n",
       "      <td>0.000000e+00</td>\n",
       "      <td>1.000000e+00</td>\n",
       "      <td>3.000000e+00</td>\n",
       "    </tr>\n",
       "    <tr>\n",
       "      <th>event_created</th>\n",
       "      <td>13044.0</td>\n",
       "      <td>1.345874e+09</td>\n",
       "      <td>2.353180e+07</td>\n",
       "      <td>1.256226e+09</td>\n",
       "      <td>1.329427e+09</td>\n",
       "      <td>1.351140e+09</td>\n",
       "      <td>1.365123e+09</td>\n",
       "      <td>1.381171e+09</td>\n",
       "    </tr>\n",
       "    <tr>\n",
       "      <th>event_end</th>\n",
       "      <td>13044.0</td>\n",
       "      <td>1.350822e+09</td>\n",
       "      <td>2.342514e+07</td>\n",
       "      <td>1.282793e+09</td>\n",
       "      <td>1.334444e+09</td>\n",
       "      <td>1.355709e+09</td>\n",
       "      <td>1.370164e+09</td>\n",
       "      <td>1.418861e+09</td>\n",
       "    </tr>\n",
       "    <tr>\n",
       "      <th>event_published</th>\n",
       "      <td>13039.0</td>\n",
       "      <td>1.342905e+09</td>\n",
       "      <td>7.060643e+07</td>\n",
       "      <td>0.000000e+00</td>\n",
       "      <td>1.329583e+09</td>\n",
       "      <td>1.351366e+09</td>\n",
       "      <td>1.365444e+09</td>\n",
       "      <td>1.381172e+09</td>\n",
       "    </tr>\n",
       "    <tr>\n",
       "      <th>event_start</th>\n",
       "      <td>13044.0</td>\n",
       "      <td>1.350545e+09</td>\n",
       "      <td>2.345133e+07</td>\n",
       "      <td>1.273090e+09</td>\n",
       "      <td>1.334062e+09</td>\n",
       "      <td>1.355511e+09</td>\n",
       "      <td>1.370047e+09</td>\n",
       "      <td>1.418850e+09</td>\n",
       "    </tr>\n",
       "    <tr>\n",
       "      <th>fb_published</th>\n",
       "      <td>13044.0</td>\n",
       "      <td>1.378412e-01</td>\n",
       "      <td>3.447464e-01</td>\n",
       "      <td>0.000000e+00</td>\n",
       "      <td>0.000000e+00</td>\n",
       "      <td>0.000000e+00</td>\n",
       "      <td>0.000000e+00</td>\n",
       "      <td>1.000000e+00</td>\n",
       "    </tr>\n",
       "    <tr>\n",
       "      <th>gts</th>\n",
       "      <td>13044.0</td>\n",
       "      <td>2.481680e+03</td>\n",
       "      <td>9.471312e+03</td>\n",
       "      <td>0.000000e+00</td>\n",
       "      <td>1.245100e+02</td>\n",
       "      <td>4.386750e+02</td>\n",
       "      <td>1.540890e+03</td>\n",
       "      <td>3.062939e+05</td>\n",
       "    </tr>\n",
       "    <tr>\n",
       "      <th>has_analytics</th>\n",
       "      <td>13044.0</td>\n",
       "      <td>7.996013e-02</td>\n",
       "      <td>2.712419e-01</td>\n",
       "      <td>0.000000e+00</td>\n",
       "      <td>0.000000e+00</td>\n",
       "      <td>0.000000e+00</td>\n",
       "      <td>0.000000e+00</td>\n",
       "      <td>1.000000e+00</td>\n",
       "    </tr>\n",
       "    <tr>\n",
       "      <th>has_header</th>\n",
       "      <td>8409.0</td>\n",
       "      <td>2.102509e-01</td>\n",
       "      <td>4.075110e-01</td>\n",
       "      <td>0.000000e+00</td>\n",
       "      <td>0.000000e+00</td>\n",
       "      <td>0.000000e+00</td>\n",
       "      <td>0.000000e+00</td>\n",
       "      <td>1.000000e+00</td>\n",
       "    </tr>\n",
       "    <tr>\n",
       "      <th>has_logo</th>\n",
       "      <td>13044.0</td>\n",
       "      <td>8.615455e-01</td>\n",
       "      <td>3.453896e-01</td>\n",
       "      <td>0.000000e+00</td>\n",
       "      <td>1.000000e+00</td>\n",
       "      <td>1.000000e+00</td>\n",
       "      <td>1.000000e+00</td>\n",
       "      <td>1.000000e+00</td>\n",
       "    </tr>\n",
       "    <tr>\n",
       "      <th>name_length</th>\n",
       "      <td>13044.0</td>\n",
       "      <td>4.278458e+01</td>\n",
       "      <td>2.256722e+01</td>\n",
       "      <td>0.000000e+00</td>\n",
       "      <td>2.700000e+01</td>\n",
       "      <td>3.900000e+01</td>\n",
       "      <td>5.400000e+01</td>\n",
       "      <td>2.540000e+02</td>\n",
       "    </tr>\n",
       "    <tr>\n",
       "      <th>num_order</th>\n",
       "      <td>13044.0</td>\n",
       "      <td>3.033816e+01</td>\n",
       "      <td>9.900700e+01</td>\n",
       "      <td>0.000000e+00</td>\n",
       "      <td>3.000000e+00</td>\n",
       "      <td>9.000000e+00</td>\n",
       "      <td>2.500000e+01</td>\n",
       "      <td>2.000000e+03</td>\n",
       "    </tr>\n",
       "    <tr>\n",
       "      <th>num_payouts</th>\n",
       "      <td>13044.0</td>\n",
       "      <td>3.704140e+01</td>\n",
       "      <td>1.307762e+02</td>\n",
       "      <td>0.000000e+00</td>\n",
       "      <td>0.000000e+00</td>\n",
       "      <td>3.000000e+00</td>\n",
       "      <td>1.600000e+01</td>\n",
       "      <td>1.858000e+03</td>\n",
       "    </tr>\n",
       "    <tr>\n",
       "      <th>object_id</th>\n",
       "      <td>13044.0</td>\n",
       "      <td>4.514623e+06</td>\n",
       "      <td>1.959377e+06</td>\n",
       "      <td>3.796030e+05</td>\n",
       "      <td>2.877048e+06</td>\n",
       "      <td>4.589996e+06</td>\n",
       "      <td>6.035104e+06</td>\n",
       "      <td>8.671713e+06</td>\n",
       "    </tr>\n",
       "    <tr>\n",
       "      <th>org_facebook</th>\n",
       "      <td>13040.0</td>\n",
       "      <td>8.633206e+00</td>\n",
       "      <td>1.198357e+01</td>\n",
       "      <td>0.000000e+00</td>\n",
       "      <td>0.000000e+00</td>\n",
       "      <td>0.000000e+00</td>\n",
       "      <td>1.500000e+01</td>\n",
       "      <td>9.100000e+01</td>\n",
       "    </tr>\n",
       "    <tr>\n",
       "      <th>org_twitter</th>\n",
       "      <td>13040.0</td>\n",
       "      <td>4.687960e+00</td>\n",
       "      <td>6.126409e+00</td>\n",
       "      <td>0.000000e+00</td>\n",
       "      <td>0.000000e+00</td>\n",
       "      <td>0.000000e+00</td>\n",
       "      <td>1.100000e+01</td>\n",
       "      <td>3.400000e+01</td>\n",
       "    </tr>\n",
       "    <tr>\n",
       "      <th>sale_duration</th>\n",
       "      <td>13007.0</td>\n",
       "      <td>4.982763e+01</td>\n",
       "      <td>5.337861e+01</td>\n",
       "      <td>-1.430000e+02</td>\n",
       "      <td>1.900000e+01</td>\n",
       "      <td>3.500000e+01</td>\n",
       "      <td>6.200000e+01</td>\n",
       "      <td>8.480000e+02</td>\n",
       "    </tr>\n",
       "    <tr>\n",
       "      <th>sale_duration2</th>\n",
       "      <td>13044.0</td>\n",
       "      <td>5.395025e+01</td>\n",
       "      <td>5.869190e+01</td>\n",
       "      <td>-8.600000e+01</td>\n",
       "      <td>2.000000e+01</td>\n",
       "      <td>3.700000e+01</td>\n",
       "      <td>6.700000e+01</td>\n",
       "      <td>8.480000e+02</td>\n",
       "    </tr>\n",
       "    <tr>\n",
       "      <th>show_map</th>\n",
       "      <td>13044.0</td>\n",
       "      <td>8.528826e-01</td>\n",
       "      <td>3.542365e-01</td>\n",
       "      <td>0.000000e+00</td>\n",
       "      <td>1.000000e+00</td>\n",
       "      <td>1.000000e+00</td>\n",
       "      <td>1.000000e+00</td>\n",
       "      <td>1.000000e+00</td>\n",
       "    </tr>\n",
       "    <tr>\n",
       "      <th>user_age</th>\n",
       "      <td>13044.0</td>\n",
       "      <td>4.026831e+02</td>\n",
       "      <td>4.175086e+02</td>\n",
       "      <td>0.000000e+00</td>\n",
       "      <td>3.700000e+01</td>\n",
       "      <td>2.930000e+02</td>\n",
       "      <td>6.400000e+02</td>\n",
       "      <td>3.794000e+03</td>\n",
       "    </tr>\n",
       "    <tr>\n",
       "      <th>user_created</th>\n",
       "      <td>13044.0</td>\n",
       "      <td>1.311082e+09</td>\n",
       "      <td>4.053905e+07</td>\n",
       "      <td>1.011210e+09</td>\n",
       "      <td>1.284578e+09</td>\n",
       "      <td>1.313806e+09</td>\n",
       "      <td>1.343316e+09</td>\n",
       "      <td>1.380115e+09</td>\n",
       "    </tr>\n",
       "    <tr>\n",
       "      <th>user_type</th>\n",
       "      <td>13044.0</td>\n",
       "      <td>2.819304e+00</td>\n",
       "      <td>1.614288e+00</td>\n",
       "      <td>1.000000e+00</td>\n",
       "      <td>3.000000e+00</td>\n",
       "      <td>3.000000e+00</td>\n",
       "      <td>3.000000e+00</td>\n",
       "      <td>1.030000e+02</td>\n",
       "    </tr>\n",
       "    <tr>\n",
       "      <th>venue_latitude</th>\n",
       "      <td>12338.0</td>\n",
       "      <td>3.516577e+01</td>\n",
       "      <td>2.040188e+01</td>\n",
       "      <td>-4.504521e+01</td>\n",
       "      <td>3.403969e+01</td>\n",
       "      <td>3.998188e+01</td>\n",
       "      <td>4.464231e+01</td>\n",
       "      <td>6.484402e+01</td>\n",
       "    </tr>\n",
       "    <tr>\n",
       "      <th>venue_longitude</th>\n",
       "      <td>12338.0</td>\n",
       "      <td>-6.069306e+01</td>\n",
       "      <td>6.699278e+01</td>\n",
       "      <td>-1.593902e+02</td>\n",
       "      <td>-9.771404e+01</td>\n",
       "      <td>-7.974925e+01</td>\n",
       "      <td>-6.255231e+00</td>\n",
       "      <td>1.761695e+02</td>\n",
       "    </tr>\n",
       "    <tr>\n",
       "      <th>fraud</th>\n",
       "      <td>13044.0</td>\n",
       "      <td>0.000000e+00</td>\n",
       "      <td>0.000000e+00</td>\n",
       "      <td>0.000000e+00</td>\n",
       "      <td>0.000000e+00</td>\n",
       "      <td>0.000000e+00</td>\n",
       "      <td>0.000000e+00</td>\n",
       "      <td>0.000000e+00</td>\n",
       "    </tr>\n",
       "    <tr>\n",
       "      <th>org_subdomain_similarity</th>\n",
       "      <td>13044.0</td>\n",
       "      <td>3.776073e+01</td>\n",
       "      <td>3.205397e+01</td>\n",
       "      <td>0.000000e+00</td>\n",
       "      <td>1.300000e+01</td>\n",
       "      <td>2.500000e+01</td>\n",
       "      <td>5.700000e+01</td>\n",
       "      <td>1.000000e+02</td>\n",
       "    </tr>\n",
       "    <tr>\n",
       "      <th>num_previous</th>\n",
       "      <td>13044.0</td>\n",
       "      <td>8.394519e+01</td>\n",
       "      <td>2.493887e+02</td>\n",
       "      <td>0.000000e+00</td>\n",
       "      <td>2.000000e+00</td>\n",
       "      <td>1.000000e+01</td>\n",
       "      <td>4.325000e+01</td>\n",
       "      <td>2.048000e+03</td>\n",
       "    </tr>\n",
       "    <tr>\n",
       "      <th>public_notification_period</th>\n",
       "      <td>13039.0</td>\n",
       "      <td>8.840795e+01</td>\n",
       "      <td>7.775881e+02</td>\n",
       "      <td>-1.421571e+02</td>\n",
       "      <td>1.920857e+01</td>\n",
       "      <td>3.499249e+01</td>\n",
       "      <td>6.226183e+01</td>\n",
       "      <td>1.598200e+04</td>\n",
       "    </tr>\n",
       "    <tr>\n",
       "      <th>private_notification_period</th>\n",
       "      <td>13044.0</td>\n",
       "      <td>5.406588e+01</td>\n",
       "      <td>5.866769e+01</td>\n",
       "      <td>-8.585817e+01</td>\n",
       "      <td>2.050357e+01</td>\n",
       "      <td>3.725003e+01</td>\n",
       "      <td>6.674510e+01</td>\n",
       "      <td>8.482442e+02</td>\n",
       "    </tr>\n",
       "  </tbody>\n",
       "</table>\n",
       "</div>"
      ],
      "text/plain": [
       "                               count          mean           std  \\\n",
       "approx_payout_date           13044.0  1.351254e+09  2.342515e+07   \n",
       "body_length                  13044.0  3.886995e+03  5.889318e+03   \n",
       "channels                     13044.0  6.377645e+00  3.768931e+00   \n",
       "delivery_method              13040.0  4.755368e-01  5.998822e-01   \n",
       "event_created                13044.0  1.345874e+09  2.353180e+07   \n",
       "event_end                    13044.0  1.350822e+09  2.342514e+07   \n",
       "event_published              13039.0  1.342905e+09  7.060643e+07   \n",
       "event_start                  13044.0  1.350545e+09  2.345133e+07   \n",
       "fb_published                 13044.0  1.378412e-01  3.447464e-01   \n",
       "gts                          13044.0  2.481680e+03  9.471312e+03   \n",
       "has_analytics                13044.0  7.996013e-02  2.712419e-01   \n",
       "has_header                    8409.0  2.102509e-01  4.075110e-01   \n",
       "has_logo                     13044.0  8.615455e-01  3.453896e-01   \n",
       "name_length                  13044.0  4.278458e+01  2.256722e+01   \n",
       "num_order                    13044.0  3.033816e+01  9.900700e+01   \n",
       "num_payouts                  13044.0  3.704140e+01  1.307762e+02   \n",
       "object_id                    13044.0  4.514623e+06  1.959377e+06   \n",
       "org_facebook                 13040.0  8.633206e+00  1.198357e+01   \n",
       "org_twitter                  13040.0  4.687960e+00  6.126409e+00   \n",
       "sale_duration                13007.0  4.982763e+01  5.337861e+01   \n",
       "sale_duration2               13044.0  5.395025e+01  5.869190e+01   \n",
       "show_map                     13044.0  8.528826e-01  3.542365e-01   \n",
       "user_age                     13044.0  4.026831e+02  4.175086e+02   \n",
       "user_created                 13044.0  1.311082e+09  4.053905e+07   \n",
       "user_type                    13044.0  2.819304e+00  1.614288e+00   \n",
       "venue_latitude               12338.0  3.516577e+01  2.040188e+01   \n",
       "venue_longitude              12338.0 -6.069306e+01  6.699278e+01   \n",
       "fraud                        13044.0  0.000000e+00  0.000000e+00   \n",
       "org_subdomain_similarity     13044.0  3.776073e+01  3.205397e+01   \n",
       "num_previous                 13044.0  8.394519e+01  2.493887e+02   \n",
       "public_notification_period   13039.0  8.840795e+01  7.775881e+02   \n",
       "private_notification_period  13044.0  5.406588e+01  5.866769e+01   \n",
       "\n",
       "                                      min           25%           50%  \\\n",
       "approx_payout_date           1.283225e+09  1.334876e+09  1.356141e+09   \n",
       "body_length                  0.000000e+00  9.040000e+02  2.164000e+03   \n",
       "channels                     0.000000e+00  5.000000e+00  6.000000e+00   \n",
       "delivery_method              0.000000e+00  0.000000e+00  0.000000e+00   \n",
       "event_created                1.256226e+09  1.329427e+09  1.351140e+09   \n",
       "event_end                    1.282793e+09  1.334444e+09  1.355709e+09   \n",
       "event_published              0.000000e+00  1.329583e+09  1.351366e+09   \n",
       "event_start                  1.273090e+09  1.334062e+09  1.355511e+09   \n",
       "fb_published                 0.000000e+00  0.000000e+00  0.000000e+00   \n",
       "gts                          0.000000e+00  1.245100e+02  4.386750e+02   \n",
       "has_analytics                0.000000e+00  0.000000e+00  0.000000e+00   \n",
       "has_header                   0.000000e+00  0.000000e+00  0.000000e+00   \n",
       "has_logo                     0.000000e+00  1.000000e+00  1.000000e+00   \n",
       "name_length                  0.000000e+00  2.700000e+01  3.900000e+01   \n",
       "num_order                    0.000000e+00  3.000000e+00  9.000000e+00   \n",
       "num_payouts                  0.000000e+00  0.000000e+00  3.000000e+00   \n",
       "object_id                    3.796030e+05  2.877048e+06  4.589996e+06   \n",
       "org_facebook                 0.000000e+00  0.000000e+00  0.000000e+00   \n",
       "org_twitter                  0.000000e+00  0.000000e+00  0.000000e+00   \n",
       "sale_duration               -1.430000e+02  1.900000e+01  3.500000e+01   \n",
       "sale_duration2              -8.600000e+01  2.000000e+01  3.700000e+01   \n",
       "show_map                     0.000000e+00  1.000000e+00  1.000000e+00   \n",
       "user_age                     0.000000e+00  3.700000e+01  2.930000e+02   \n",
       "user_created                 1.011210e+09  1.284578e+09  1.313806e+09   \n",
       "user_type                    1.000000e+00  3.000000e+00  3.000000e+00   \n",
       "venue_latitude              -4.504521e+01  3.403969e+01  3.998188e+01   \n",
       "venue_longitude             -1.593902e+02 -9.771404e+01 -7.974925e+01   \n",
       "fraud                        0.000000e+00  0.000000e+00  0.000000e+00   \n",
       "org_subdomain_similarity     0.000000e+00  1.300000e+01  2.500000e+01   \n",
       "num_previous                 0.000000e+00  2.000000e+00  1.000000e+01   \n",
       "public_notification_period  -1.421571e+02  1.920857e+01  3.499249e+01   \n",
       "private_notification_period -8.585817e+01  2.050357e+01  3.725003e+01   \n",
       "\n",
       "                                      75%           max  \n",
       "approx_payout_date           1.370596e+09  1.419293e+09  \n",
       "body_length                  4.567250e+03  6.553500e+04  \n",
       "channels                     8.000000e+00  1.300000e+01  \n",
       "delivery_method              1.000000e+00  3.000000e+00  \n",
       "event_created                1.365123e+09  1.381171e+09  \n",
       "event_end                    1.370164e+09  1.418861e+09  \n",
       "event_published              1.365444e+09  1.381172e+09  \n",
       "event_start                  1.370047e+09  1.418850e+09  \n",
       "fb_published                 0.000000e+00  1.000000e+00  \n",
       "gts                          1.540890e+03  3.062939e+05  \n",
       "has_analytics                0.000000e+00  1.000000e+00  \n",
       "has_header                   0.000000e+00  1.000000e+00  \n",
       "has_logo                     1.000000e+00  1.000000e+00  \n",
       "name_length                  5.400000e+01  2.540000e+02  \n",
       "num_order                    2.500000e+01  2.000000e+03  \n",
       "num_payouts                  1.600000e+01  1.858000e+03  \n",
       "object_id                    6.035104e+06  8.671713e+06  \n",
       "org_facebook                 1.500000e+01  9.100000e+01  \n",
       "org_twitter                  1.100000e+01  3.400000e+01  \n",
       "sale_duration                6.200000e+01  8.480000e+02  \n",
       "sale_duration2               6.700000e+01  8.480000e+02  \n",
       "show_map                     1.000000e+00  1.000000e+00  \n",
       "user_age                     6.400000e+02  3.794000e+03  \n",
       "user_created                 1.343316e+09  1.380115e+09  \n",
       "user_type                    3.000000e+00  1.030000e+02  \n",
       "venue_latitude               4.464231e+01  6.484402e+01  \n",
       "venue_longitude             -6.255231e+00  1.761695e+02  \n",
       "fraud                        0.000000e+00  0.000000e+00  \n",
       "org_subdomain_similarity     5.700000e+01  1.000000e+02  \n",
       "num_previous                 4.325000e+01  2.048000e+03  \n",
       "public_notification_period   6.226183e+01  1.598200e+04  \n",
       "private_notification_period  6.674510e+01  8.482442e+02  "
      ]
     },
     "execution_count": 12,
     "metadata": {},
     "output_type": "execute_result"
    }
   ],
   "source": [
    "df_new[df_new['fraud'] == 0].describe().T"
   ]
  },
  {
   "cell_type": "code",
   "execution_count": 5,
   "metadata": {},
   "outputs": [],
   "source": [
    "import numpy as np\n",
    "df['fraud'] = np.where((df['acct_type'] == 'fraudster') | (df['acct_type'] == 'fraudster_event') | (df['acct_type'] == 'fraudster_att'), 1, 0)"
   ]
  },
  {
   "cell_type": "code",
   "execution_count": null,
   "metadata": {},
   "outputs": [],
   "source": [
    "df['org_fb_twitter'] = df['org_facebook'] + df['org_twitter']"
   ]
  },
  {
   "cell_type": "code",
   "execution_count": null,
   "metadata": {},
   "outputs": [],
   "source": [
    "df.boxplot('org_fb_twitter', 'fraud')"
   ]
  },
  {
   "cell_type": "code",
   "execution_count": 4,
   "metadata": {},
   "outputs": [],
   "source": [
    "boxes = ['delivery_method', 'has_logo', 'name_length', 'org_facebook', 'org_twitter', 'user_age']"
   ]
  },
  {
   "cell_type": "code",
   "execution_count": 38,
   "metadata": {},
   "outputs": [
    {
     "name": "stderr",
     "output_type": "stream",
     "text": [
      "/opt/anaconda3/lib/python3.7/site-packages/pandas/plotting/_matplotlib/tools.py:190: UserWarning: When passing multiple axes, layout keyword is ignored\n",
      "  \"When passing multiple axes, layout keyword is ignored\", UserWarning\n",
      "/opt/anaconda3/lib/python3.7/site-packages/pandas/plotting/_matplotlib/boxplot.py:375: UserWarning: When passing multiple axes, sharex and sharey are ignored. These settings must be specified when creating axes\n",
      "  **kwds,\n"
     ]
    },
    {
     "data": {
      "image/png": "[encoded data removed]",
      "text/plain": [
       "<Figure size 720x720 with 6 Axes>"
      ]
     },
     "metadata": {
      "needs_background": "light"
     },
     "output_type": "display_data"
    }
   ],
   "source": [
    "fig, ax_new = plt.subplots(3, 2, sharey=False, figsize=(10,10), sharex=True)\n",
    "bp = df.boxplot(by=\"fraud\", column=boxes, ax=ax_new,layout=(3, 2), figsize=(10, 10))\n",
    "[ax_tmp.set_xlabel('') for ax_tmp in ax_new.reshape(-1)]\n",
    "[ax_tmp.set_xticklabels(['Not Fraud','Fraud']) for ax_tmp in ax_new[2]]\n",
    "# [ax_tmp.set_xlabel('Fraud') for ax_tmp in ax_new[2]]\n",
    "fig.suptitle('Boxplots Grouped By Fraud')\n",
    "# plt.tight_layout()\n",
    "plt.savefig('images/boxplots.png')"
   ]
  },
  {
   "cell_type": "code",
   "execution_count": 9,
   "metadata": {},
   "outputs": [],
   "source": [
    "def feature_eng(df):\n",
    "    # Insert our target of fraud = 1 and not fraud = 0\n",
    "    df['fraud'] = np.where((df['acct_type'] == 'fraudster') | (df['acct_type'] == 'fraudster_event') | (df['acct_type'] == 'fraudster_att'), 1, 0)\n",
    "\n",
    "    #break down the email domain into two categories subdomain and tld\n",
    "    df['subdomain'] = df.apply(lambda row: split_email(row.email_domain), axis=1)\n",
    "    df['tld'] = df.apply(lambda row: split_email(row.email_domain, get_ending=True), axis=1)\n",
    "\n",
    "    # Use fuzzywuzzy to find the similarity of the email's subdomain and the organization's name\n",
    "    df['org_subdomain_similarity'] = df.apply(lambda row: fuzz.token_set_ratio(str(row.subdomain), str(row.org_name)), axis=1)\n",
    "\n",
    "    #Count the total number of previous payouts to the user\n",
    "    df['num_previous'] = df.apply(lambda row: len(row.previous_payouts), axis=1)\n",
    "\n",
    "    #convert columns from seconds to DateTime\n",
    "    df['date_pub'] = pd.to_datetime(df.event_published, unit='s')\n",
    "    df['date_start'] = pd.to_datetime(df.event_start, unit='s')\n",
    "\n",
    "    #Find the number of days until the event from both when it was published and when it was created\n",
    "    df['public_notification_period'] = (((df.event_start - df.event_published) / 60) / 60) / 24\n",
    "    df['private_notification_period'] = (((df.event_start - df.event_created) / 60) / 60) / 24\n",
    "\n",
    "    #Return the feature engineered DataFrame\n",
    "    return df\n",
    "\n",
    "def split_email(email, get_ending=False):\n",
    "    email = str(email)\n",
    "    head, sep, tail = email.partition('.')\n",
    "    if get_ending:\n",
    "        return tail\n",
    "    else:\n",
    "        return head"
   ]
  },
  {
   "cell_type": "code",
   "execution_count": 10,
   "metadata": {},
   "outputs": [
    {
     "name": "stderr",
     "output_type": "stream",
     "text": [
      "/opt/anaconda3/lib/python3.7/site-packages/fuzzywuzzy/fuzz.py:11: UserWarning: Using slow pure-python SequenceMatcher. Install python-Levenshtein to remove this warning\n",
      "  warnings.warn('Using slow pure-python SequenceMatcher. Install python-Levenshtein to remove this warning')\n"
     ]
    }
   ],
   "source": [
    "from fuzzywuzzy import fuzz\n",
    "df_new = feature_eng(df_original)"
   ]
  },
  {
   "cell_type": "code",
   "execution_count": 45,
   "metadata": {},
   "outputs": [],
   "source": [
    "new_boxes = ['org_subdomain_similarity', 'public_notification_period', 'private_notification_period', 'num_previous']"
   ]
  },
  {
   "cell_type": "code",
   "execution_count": 48,
   "metadata": {},
   "outputs": [
    {
     "name": "stderr",
     "output_type": "stream",
     "text": [
      "/opt/anaconda3/lib/python3.7/site-packages/pandas/plotting/_matplotlib/tools.py:190: UserWarning: When passing multiple axes, layout keyword is ignored\n",
      "  \"When passing multiple axes, layout keyword is ignored\", UserWarning\n",
      "/opt/anaconda3/lib/python3.7/site-packages/pandas/plotting/_matplotlib/boxplot.py:375: UserWarning: When passing multiple axes, sharex and sharey are ignored. These settings must be specified when creating axes\n",
      "  **kwds,\n"
     ]
    },
    {
     "data": {
      "image/png": "[encoded data removed]",
      "text/plain": [
       "<Figure size 720x720 with 4 Axes>"
      ]
     },
     "metadata": {
      "needs_background": "light"
     },
     "output_type": "display_data"
    }
   ],
   "source": [
    "fig, ax_new = plt.subplots(2, 2, sharey=False, figsize=(10,10), sharex=True)\n",
    "bp = df_new.boxplot(by=\"fraud\", column=new_boxes, ax=ax_new,layout=(2, 2), figsize=(10, 10))\n",
    "[ax_tmp.set_xlabel('') for ax_tmp in ax_new.reshape(-1)]\n",
    "[ax_tmp.set_xticklabels(['Not Fraud','Fraud']) for ax_tmp in ax_new[1]]\n",
    "# [ax_tmp.set_xlabel('Fraud') for ax_tmp in ax_new[2]]\n",
    "fig.suptitle('Boxplots Grouped By Fraud')\n",
    "# plt.tight_layout()\n",
    "plt.savefig('images/boxplots_new.png')"
   ]
  },
  {
   "cell_type": "code",
   "execution_count": null,
   "metadata": {},
   "outputs": [],
   "source": [
    "df.groupby(['payout_type','fraud'])['fraud'].count().unstack(0).plot.bar()"
   ]
  },
  {
   "cell_type": "code",
   "execution_count": null,
   "metadata": {},
   "outputs": [],
   "source": [
    "df_for_models._get_numeric_data().columns"
   ]
  },
  {
   "cell_type": "code",
   "execution_count": null,
   "metadata": {},
   "outputs": [],
   "source": [
    "from sklearn.ensemble import RandomForestClassifier\n",
    "from sklearn.model_selection import train_test_split\n",
    "\n",
    "drop_list = ['acct_type', 'approx_payout_date', 'event_end', 'event_start', 'gts', 'num_payouts', 'payout_type', 'sale_duration', 'sale_duration2', 'ticket_types']\n",
    "df_for_models = df.drop(drop_list, axis=1)\n",
    "df_for_models.fillna(0, inplace=True)"
   ]
  },
  {
   "cell_type": "code",
   "execution_count": null,
   "metadata": {},
   "outputs": [],
   "source": [
    "y = df_for_models.pop('fraud').values\n",
    "X = df_for_models._get_numeric_data().values\n",
    "X_train, X_test, y_train, y_test = train_test_split(X, y, stratify=y, test_size=0.33, random_state=42)"
   ]
  },
  {
   "cell_type": "code",
   "execution_count": null,
   "metadata": {},
   "outputs": [],
   "source": [
    "rf = RandomForestClassifier()\n",
    "rf.fit(X_train, y_train)\n",
    "rf.predict_proba(X_test)"
   ]
  },
  {
   "cell_type": "code",
   "execution_count": null,
   "metadata": {},
   "outputs": [],
   "source": [
    "import pickle\n",
    "# with open(\"data/model.pkl\", 'w') as f:\n",
    "pickle.dump(rf, open('data/model.pkl', 'wb'))"
   ]
  },
  {
   "cell_type": "code",
   "execution_count": null,
   "metadata": {},
   "outputs": [],
   "source": [
    "from sklearn.metrics import f1_score\n",
    "f1_score(y_test, rf.predict(X_test))"
   ]
  },
  {
   "cell_type": "code",
   "execution_count": null,
   "metadata": {},
   "outputs": [],
   "source": [
    "df.info()"
   ]
  },
  {
   "cell_type": "code",
   "execution_count": null,
   "metadata": {},
   "outputs": [],
   "source": [
    "rand_list = np.random.randint(0, len(df), 10)\n",
    "rand_list"
   ]
  },
  {
   "cell_type": "code",
   "execution_count": null,
   "metadata": {},
   "outputs": [],
   "source": [
    "test_examples_df = df_for_models.loc[rand_list]"
   ]
  },
  {
   "cell_type": "code",
   "execution_count": null,
   "metadata": {},
   "outputs": [],
   "source": [
    "test_examples_df.to_csv('data/test_script_examples.csv')"
   ]
  },
  {
   "cell_type": "code",
   "execution_count": null,
   "metadata": {},
   "outputs": [],
   "source": [
    "df_mw = df[525:551]"
   ]
  },
  {
   "cell_type": "code",
   "execution_count": null,
   "metadata": {},
   "outputs": [],
   "source": [
    "pd.set_option('display.max_columns', None)\n",
    "df_mw.head()"
   ]
  },
  {
   "cell_type": "code",
   "execution_count": null,
   "metadata": {},
   "outputs": [],
   "source": [
    "df_mw['email_domain'].value_counts()"
   ]
  },
  {
   "cell_type": "code",
   "execution_count": null,
   "metadata": {},
   "outputs": [],
   "source": []
  },
  {
   "cell_type": "code",
   "execution_count": null,
   "metadata": {},
   "outputs": [],
   "source": [
    "df_mw['email_._loc'] = df_mw['email_domain'].str.find('.')"
   ]
  },
  {
   "cell_type": "code",
   "execution_count": null,
   "metadata": {},
   "outputs": [],
   "source": [
    "df_mw['email_domain'].str[-3:].value_counts()"
   ]
  },
  {
   "cell_type": "code",
   "execution_count": null,
   "metadata": {},
   "outputs": [],
   "source": [
    "from bs4 import BeautifulSoup\n",
    "soup = BeautifulSoup(df_mw['description'][525], 'html.parser')"
   ]
  },
  {
   "cell_type": "code",
   "execution_count": null,
   "metadata": {},
   "outputs": [],
   "source": [
    "p_list = soup.find_all('p')"
   ]
  },
  {
   "cell_type": "code",
   "execution_count": null,
   "metadata": {},
   "outputs": [],
   "source": [
    "for p in p_list:\n",
    "    print(p.get_text())"
   ]
  },
  {
   "cell_type": "code",
   "execution_count": null,
   "metadata": {},
   "outputs": [],
   "source": [
    "df_mw['fraud'].count()"
   ]
  },
  {
   "cell_type": "code",
   "execution_count": null,
   "metadata": {},
   "outputs": [],
   "source": [
    "df_mw[df_mw['fraud'] == 1]"
   ]
  },
  {
   "cell_type": "code",
   "execution_count": null,
   "metadata": {},
   "outputs": [],
   "source": [
    "df['fraud'].sum()"
   ]
  },
  {
   "cell_type": "code",
   "execution_count": null,
   "metadata": {},
   "outputs": [],
   "source": [
    "df[df['fraud'] == 1]['ticket_types'][0]"
   ]
  },
  {
   "cell_type": "code",
   "execution_count": null,
   "metadata": {},
   "outputs": [],
   "source": [
    "df_mw['ticket_types'][527]"
   ]
  },
  {
   "cell_type": "code",
   "execution_count": null,
   "metadata": {},
   "outputs": [],
   "source": [
    "(df_mw ['event_created'] - df_mw['user_created']) / df_mw['user_age']"
   ]
  },
  {
   "cell_type": "code",
   "execution_count": null,
   "metadata": {},
   "outputs": [],
   "source": [
    "df_mw['user_age']"
   ]
  },
  {
   "cell_type": "code",
   "execution_count": null,
   "metadata": {},
   "outputs": [],
   "source": [
    "(df_mw['event_end'] - df_mw['event_start'])/60000"
   ]
  },
  {
   "cell_type": "code",
   "execution_count": null,
   "metadata": {},
   "outputs": [],
   "source": [
    "df_mw['event_published'] - df_mw['event_created']"
   ]
  },
  {
   "cell_type": "code",
   "execution_count": null,
   "metadata": {},
   "outputs": [],
   "source": [
    "df_mw.head()"
   ]
  },
  {
   "cell_type": "code",
   "execution_count": null,
   "metadata": {},
   "outputs": [],
   "source": [
    "df['user_age'][df['fraud'] == 1].value_counts()"
   ]
  },
  {
   "cell_type": "code",
   "execution_count": null,
   "metadata": {},
   "outputs": [],
   "source": [
    "df['email_domain'].str[-3:][df['fraud'] == 1].value_counts()"
   ]
  },
  {
   "cell_type": "code",
   "execution_count": null,
   "metadata": {},
   "outputs": [],
   "source": [
    "pd.set_option('display.max_rows', None)\n",
    "df['email_domain'].str[-3:].value_counts()"
   ]
  },
  {
   "cell_type": "code",
   "execution_count": null,
   "metadata": {},
   "outputs": [],
   "source": [
    "df['country'].value_counts()"
   ]
  },
  {
   "cell_type": "code",
   "execution_count": null,
   "metadata": {},
   "outputs": [],
   "source": [
    "df['description'][2]"
   ]
  },
  {
   "cell_type": "code",
   "execution_count": null,
   "metadata": {},
   "outputs": [],
   "source": []
  }
 ],
 "metadata": {
  "kernelspec": {
   "display_name": "Python 3",
   "language": "python",
   "name": "python3"
  },
  "language_info": {
   "codemirror_mode": {
    "name": "ipython",
    "version": 3
   },
   "file_extension": ".py",
   "mimetype": "text/x-python",
   "name": "python",
   "nbconvert_exporter": "python",
   "pygments_lexer": "ipython3",
   "version": "3.7.6"
  }
 },
 "nbformat": 4,
 "nbformat_minor": 4
}
